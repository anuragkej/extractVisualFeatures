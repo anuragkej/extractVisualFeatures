{
 "cells": [
  {
   "cell_type": "code",
   "execution_count": 12,
   "metadata": {},
   "outputs": [
    {
     "name": "stdout",
     "output_type": "stream",
     "text": [
      "Requirement already satisfied: transformers==4.40.0 in ./.conda/lib/python3.11/site-packages (from -r requirements.txt (line 1)) (4.40.0)\n",
      "Requirement already satisfied: torch==2.3.0 in ./.conda/lib/python3.11/site-packages (from -r requirements.txt (line 2)) (2.3.0)\n",
      "Requirement already satisfied: torchvision==0.18.0 in ./.conda/lib/python3.11/site-packages (from -r requirements.txt (line 3)) (0.18.0)\n",
      "Requirement already satisfied: einops in ./.conda/lib/python3.11/site-packages (from -r requirements.txt (line 4)) (0.8.0)\n",
      "\u001b[31mERROR: Could not find a version that satisfies the requirement PIL (from versions: none)\u001b[0m\u001b[31m\n",
      "\u001b[0m\u001b[31mERROR: No matching distribution found for PIL\u001b[0m\u001b[31m\n",
      "\u001b[0mNote: you may need to restart the kernel to use updated packages.\n"
     ]
    }
   ],
   "source": [
    "%pip install -r requirements.txt\n",
    "\n",
    "\n",
    "\n"
   ]
  },
  {
   "cell_type": "code",
   "execution_count": 43,
   "metadata": {},
   "outputs": [
    {
     "name": "stderr",
     "output_type": "stream",
     "text": [
      "/Users/anuragkej/extractVisualFeatures/.conda/lib/python3.11/site-packages/huggingface_hub/file_download.py:1150: FutureWarning: `resume_download` is deprecated and will be removed in version 1.0.0. Downloads always resume when possible. If you want to force a new download, use `force_download=True`.\n",
      "  warnings.warn(\n",
      "/Users/anuragkej/extractVisualFeatures/.conda/lib/python3.11/site-packages/transformers/models/vit/feature_extraction_vit.py:28: FutureWarning: The class ViTFeatureExtractor is deprecated and will be removed in version 5 of Transformers. Please use ViTImageProcessor instead.\n",
      "  warnings.warn(\n",
      "Some weights of ViTModel were not initialized from the model checkpoint at google/vit-base-patch16-224 and are newly initialized: ['vit.pooler.dense.bias', 'vit.pooler.dense.weight']\n",
      "You should probably TRAIN this model on a down-stream task to be able to use it for predictions and inference.\n"
     ]
    },
    {
     "name": "stdout",
     "output_type": "stream",
     "text": [
      "<built-in method sum of Tensor object at 0x14d3e1130>\n"
     ]
    }
   ],
   "source": [
    "import torch\n",
    "from transformers import (\n",
    "    AutoModel,\n",
    "    AutoImageProcessor,\n",
    "    AutoFeatureExtractor,\n",
    "    ViTFeatureExtractor,\n",
    "    ViTModel,\n",
    ")\n",
    "import torch.nn.functional as F\n",
    "\n",
    "\n",
    "# from torchvision.transforms import Resize, ToTensor\n",
    "from torchvision.transforms.functional import to_pil_image\n",
    "from PIL import Image\n",
    "from torchvision import transforms\n",
    "import requests\n",
    "from io import BytesIO\n",
    "\n",
    "imageBirdURL = \"https://static.inaturalist.org/photos/405494470/original.jpeg\"\n",
    "imageFlowerURL = (\n",
    "    \"https://inaturalist-open-data.s3.amazonaws.com/photos/405552903/original.jpeg\"\n",
    ")\n",
    "\n",
    "responseBird = requests.get(imageBirdURL)\n",
    "responseFlower = requests.get(imageFlowerURL)\n",
    "\n",
    "imageBird = Image.open(BytesIO(responseBird.content))\n",
    "imageFlower = Image.open(BytesIO(responseFlower.content))\n",
    "\n",
    "# resize each image\n",
    "imageBird.thumbnail((100, 100))\n",
    "imageBird.save(\"resized_image_bird.jpg\")\n",
    "\n",
    "imageFlower.thumbnail((100, 100))\n",
    "imageFlower.save(\"resized_image_flower.jpg\")\n",
    "# vision transformer ViT\n",
    "featureExtract = ViTFeatureExtractor.from_pretrained(\"google/vit-base-patch16-224\")\n",
    "model = ViTModel.from_pretrained(\"google/vit-base-patch16-224\")\n",
    "\n",
    "inputTensorsBird = featureExtract(images=imageBird, return_tensors=\"pt\")\n",
    "inputTensorsFlower = featureExtract(images=imageFlower, return_tensors=\"pt\")\n",
    "\n",
    "with torch.no_grad():\n",
    "    outputBird = model(**inputTensorsBird)\n",
    "    outputFlower = model(**inputTensorsFlower)\n",
    "\n",
    "last_hidden_state_bird = outputBird.last_hidden_state\n",
    "last_hidden_state_flower = outputFlower.last_hidden_state\n",
    "\n",
    "# reshape to W x H x C tensor\n",
    "reshaped_features_bird = last_hidden_state_bird[0, 1:, :].reshape(14, 14, 768)\n",
    "reshaped_features_flower = last_hidden_state_flower[0, 1:, :].reshape(14, 14, 768)\n",
    "\n",
    "\n",
    "l2NormBird = F.normalize(reshaped_features_bird, p=2, dim=-1)\n",
    "l2NormFlower = F.normalize(reshaped_features_flower, p=2, dim=-1)\n",
    "\n",
    "avgFeatureBird = l2NormBird.mean(dim=1)\n",
    "avgFeatureFlower = l2NormFlower.mean(dim=1)\n",
    "\n",
    "sumFeatureBird = avgFeatureBird.sum(dim=-1)\n",
    "sumFeatureFlower = avgFeatureFlower.sum(dim=-1)\n",
    "\n",
    "print(l2NormBird)\n",
    "\n",
    "\n",
    "## EXTRACT TENSORS ##\n",
    "# resizeBird = featureExtract(\n",
    "#     images=imageBird, size=(100, 100), return_tensors=\"pt\"\n",
    "# ).pixel_values\n",
    "# resizeFlower = featureExtract(\n",
    "#     images=imageFlower, size=(100, 100), return_tensors=\"pt\"\n",
    "# ).pixel_values\n",
    "\n",
    "# resized_image_Bird = Image.fromarray(\n",
    "#     (resizeBird[0].permute(1, 2, 0) * 255).byte().numpy()\n",
    "# )\n",
    "# resized_image_Bird.save(\"resized_image_bird.jpg\")\n",
    "# resized_image_Flower = Image.fromarray(\n",
    "#     (resizeFlower[0].permute(1, 2, 0) * 255).byte().numpy()\n",
    "# )\n",
    "# resized_image_Flower.save(\"resized_image_flower.jpg\")"
   ]
  },
  {
   "cell_type": "code",
   "execution_count": 26,
   "metadata": {},
   "outputs": [],
   "source": []
  }
 ],
 "metadata": {
  "kernelspec": {
   "display_name": "base",
   "language": "python",
   "name": "python3"
  },
  "language_info": {
   "codemirror_mode": {
    "name": "ipython",
    "version": 3
   },
   "file_extension": ".py",
   "mimetype": "text/x-python",
   "name": "python",
   "nbconvert_exporter": "python",
   "pygments_lexer": "ipython3",
   "version": "3.11.9"
  }
 },
 "nbformat": 4,
 "nbformat_minor": 2
}
